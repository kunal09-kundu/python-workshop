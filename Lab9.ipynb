{
 "cells": [
  {
   "cell_type": "markdown",
   "metadata": {},
   "source": [
    "## LAB 10 (INHERITANCE IN PYTHON)"
   ]
  },
  {
   "cell_type": "markdown",
   "metadata": {},
   "source": [
    "### 1.Write a Python program that has a class Animal with a method legs(). Create two subclasses Tiger and Dog, access the method leg explicitly with class Dog and implicitly with the class Tiger.¶"
   ]
  },
  {
   "cell_type": "code",
   "execution_count": 27,
   "metadata": {},
   "outputs": [
    {
     "name": "stdout",
     "output_type": "stream",
     "text": [
      "i am a Tiger and i have 4 legs\n",
      "i am a Doberman and i have 4 legs\n"
     ]
    }
   ],
   "source": [
    "class Animal:\n",
    "    def __init__(self,creature):\n",
    "        self.creature = creature\n",
    "    def legs(self):\n",
    "        print(\"i am a \" +self.creature+ \" and i have 4 legs\")\n",
    "        \n",
    "class Tiger(Animal):\n",
    "    pass\n",
    "\n",
    "class Dog(Animal):\n",
    "    def legs(self):\n",
    "        Animal.legs(self)\n",
    "    \n",
    "obj1 = Tiger(\"Tiger\")\n",
    "obj1.legs()\n",
    "\n",
    "obj2 = Dog(\"Doberman\")\n",
    "obj2.legs()"
   ]
  },
  {
   "cell_type": "markdown",
   "metadata": {},
   "source": [
    "### 2.Write a Python program to create a class Employee. Define two subclasses:Engineer and Manager. Every class should have method named printDesignation() that prints Engineer for Engineer class and Manager for Manager Class.\n"
   ]
  },
  {
   "cell_type": "code",
   "execution_count": 1,
   "metadata": {},
   "outputs": [
    {
     "name": "stdout",
     "output_type": "stream",
     "text": [
      "Engineer\n",
      "Manager\n"
     ]
    }
   ],
   "source": [
    "class Employee:\n",
    "    designation = \"\"\n",
    "    def __init__(self,designation):\n",
    "        self.designation = designation\n",
    "    def printDesignation(self):\n",
    "        print(self.designation)\n",
    "        \n",
    "class Engineer(Employee):\n",
    "    def __init__(self,designation):\n",
    "        super().__init__(designation)\n",
    "        \n",
    "    def printDesignation(self):\n",
    "        print(self.designation)\n",
    "\n",
    "class Manager(Employee):\n",
    "    def __init__(self,designation):\n",
    "        super().__init__(designation)\n",
    "        \n",
    "        def printDesignation(self):\n",
    "            print(self.designation)\n",
    "\n",
    "obj1 = Engineer(\"Engineer\")\n",
    "obj1.printDesignation()\n",
    "\n",
    "obj2 = Manager(\"Manager\")\n",
    "obj2.printDesignation()"
   ]
  },
  {
   "cell_type": "markdown",
   "metadata": {},
   "source": [
    "### 3. Write a Python program to demonstrate classes and their attributes."
   ]
  },
  {
   "cell_type": "code",
   "execution_count": 1,
   "metadata": {},
   "outputs": [
    {
     "name": "stdout",
     "output_type": "stream",
     "text": [
      "Hello my name is AYAAM and i am 20 years old \n"
     ]
    }
   ],
   "source": [
    "class human(object):\n",
    "    def __init__(self,name,age):\n",
    "        self.name = name\n",
    "        self.age = age\n",
    "    def intro(self):\n",
    "        print(\"Hello my name is \" +self.name+ \" and i am \" +str(self.age)+ \" years old \")\n",
    "        \n",
    "class person(human):\n",
    "    pass\n",
    "        \n",
    "p = person(\"AYAAM\",20)\n",
    "p.intro()"
   ]
  },
  {
   "cell_type": "markdown",
   "metadata": {},
   "source": [
    "### 4.Write a Python program to demonstrate Inheritance and method overriding\n"
   ]
  },
  {
   "cell_type": "code",
   "execution_count": 3,
   "metadata": {},
   "outputs": [
    {
     "name": "stdout",
     "output_type": "stream",
     "text": [
      "side of square is 2\n",
      "Area of square is 4\n",
      "side of square is 4\n",
      "Area of square is 16\n"
     ]
    }
   ],
   "source": [
    "class square:\n",
    "    def __init__(self,l):\n",
    "        self.length = l\n",
    "        \n",
    "    def print(self):\n",
    "        print(\"side of square is\", self.length)\n",
    "        \n",
    "    def area(self):\n",
    "        print(\"Area of square is\", self.length * self.length)\n",
    "        \n",
    "class rectangle(square):\n",
    "\n",
    "    def __init__(self,l,b):\n",
    "        super().__init__(l)\n",
    "        \n",
    "        self.breadth = b\n",
    "        \n",
    "        def print(self):\n",
    "            print(\"breadth of rectangle\", self.breadth)\n",
    "        \n",
    "        def area(self):\n",
    "            print(\"Area of rectangle\", self.length * self.breadth)\n",
    "        \n",
    "p = square(2)\n",
    "p.print()\n",
    "p.area()\n",
    "\n",
    "c = rectangle(4,8)\n",
    "c.print()\n",
    "c.area()"
   ]
  },
  {
   "cell_type": "markdown",
   "metadata": {},
   "source": [
    "### 5.Write a Python program to demonstrate multiple Inheritance."
   ]
  },
  {
   "cell_type": "code",
   "execution_count": 2,
   "metadata": {},
   "outputs": [
    {
     "name": "stdout",
     "output_type": "stream",
     "text": [
      "I AM PARENT 1 \n",
      "I AM PARENT 2\n",
      "I AM THE CHILD\n",
      "A B\n"
     ]
    }
   ],
   "source": [
    "class parent1(object):\n",
    "    def __init__(self):\n",
    "        self.member1 = \"A\"\n",
    "    def f1(self):\n",
    "        print(\"I AM PARENT 1 \")\n",
    "        \n",
    "class parent2(object):\n",
    "    def __init__(self):\n",
    "        self.member2 = \"B\"\n",
    "    def f2(self):\n",
    "        print(\"I AM PARENT 2\")\n",
    "        \n",
    "class child(object):\n",
    "    def __init__(self):\n",
    "        \n",
    "        parent1.__init__(self)\n",
    "        parent2.__init__(self)\n",
    "        \n",
    "    def f3(self):\n",
    "        print(\"I AM THE CHILD\")\n",
    "            \n",
    "    def print_members(self):\n",
    "        print(self.member1,self.member2)\n",
    "\n",
    "p1 = parent1()\n",
    "p1.f1()\n",
    "p2 = parent2()\n",
    "p2.f2()\n",
    "\n",
    "obj = child()\n",
    "obj.f3()\n",
    "obj.print_members()\n"
   ]
  },
  {
   "cell_type": "code",
   "execution_count": null,
   "metadata": {},
   "outputs": [],
   "source": []
  }
 ],
 "metadata": {
  "kernelspec": {
   "display_name": "Python 3",
   "language": "python",
   "name": "python3"
  },
  "language_info": {
   "codemirror_mode": {
    "name": "ipython",
    "version": 3
   },
   "file_extension": ".py",
   "mimetype": "text/x-python",
   "name": "python",
   "nbconvert_exporter": "python",
   "pygments_lexer": "ipython3",
   "version": "3.7.4"
  }
 },
 "nbformat": 4,
 "nbformat_minor": 4
}

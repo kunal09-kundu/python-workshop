{
 "cells": [
  {
   "cell_type": "code",
   "execution_count": 6,
   "metadata": {},
   "outputs": [
    {
     "name": "stdout",
     "output_type": "stream",
     "text": [
      "('1', 'kunal', 'False')\n"
     ]
    }
   ],
   "source": [
    "#q2\n",
    "var1=(\"1\",\"kunal\",\"False\")\n",
    "print(var1)\n",
    "      "
   ]
  },
  {
   "cell_type": "code",
   "execution_count": 9,
   "metadata": {},
   "outputs": [
    {
     "name": "stdout",
     "output_type": "stream",
     "text": [
      "30\n"
     ]
    }
   ],
   "source": [
    "#q3\n",
    "var1=(10,20,30)\n",
    "print(var1[2])"
   ]
  },
  {
   "cell_type": "code",
   "execution_count": 2,
   "metadata": {},
   "outputs": [
    {
     "name": "stdout",
     "output_type": "stream",
     "text": [
      "(4, 6, 7)\n",
      "17\n"
     ]
    }
   ],
   "source": [
    "#q4\n",
    "tuple=4,6,7\n",
    "print(tuple)\n",
    "n1,n2,n3=tuple\n",
    "print(n1+n2+n3)"
   ]
  },
  {
   "cell_type": "code",
   "execution_count": 18,
   "metadata": {},
   "outputs": [
    {
     "name": "stdout",
     "output_type": "stream",
     "text": [
      "(10, 20, 25, 40)\n"
     ]
    }
   ],
   "source": [
    "#q5\n",
    "var1=(10,20,25)\n",
    "var1=var1+(40,)\n",
    "print(var1)"
   ]
  },
  {
   "cell_type": "code",
   "execution_count": 27,
   "metadata": {},
   "outputs": [
    {
     "name": "stdout",
     "output_type": "stream",
     "text": [
      "10,20,25\n"
     ]
    }
   ],
   "source": [
    "#q6\n",
    "var1=(\"10\",\"20\",\"25\")\n",
    "str=','.join(var1)\n",
    "print(str)\n",
    "\n"
   ]
  },
  {
   "cell_type": "code",
   "execution_count": 30,
   "metadata": {},
   "outputs": [
    {
     "name": "stdout",
     "output_type": "stream",
     "text": [
      "d c\n"
     ]
    }
   ],
   "source": [
    "#q7\n",
    "var1=(\"a\",\"b\",\"c\",\"d\",\"e\",\"f\")\n",
    "print(var1[3],var1[-4])"
   ]
  },
  {
   "cell_type": "code",
   "execution_count": 34,
   "metadata": {},
   "outputs": [
    {
     "name": "stdout",
     "output_type": "stream",
     "text": [
      "2\n"
     ]
    }
   ],
   "source": [
    "#q9\n",
    "var1=(10,20,30,10,50,60)\n",
    "print(var1.count(10))"
   ]
  },
  {
   "cell_type": "code",
   "execution_count": 36,
   "metadata": {},
   "outputs": [
    {
     "name": "stdout",
     "output_type": "stream",
     "text": [
      "present\n"
     ]
    }
   ],
   "source": [
    "#q10\n",
    "var1=(10,20,30,40,50,60)\n",
    "if 10 in var1:\n",
    "   print(\"present\")\n",
    "else:\n",
    "    print(\"absent\")"
   ]
  },
  {
   "cell_type": "code",
   "execution_count": 37,
   "metadata": {},
   "outputs": [
    {
     "name": "stdout",
     "output_type": "stream",
     "text": [
      "(1, 2, 3, 4)\n"
     ]
    }
   ],
   "source": [
    "#q11\n",
    "list1=[1,2 ,3 ,4]\n",
    "var1=tuple(list1)\n",
    "print(var1)"
   ]
  },
  {
   "cell_type": "code",
   "execution_count": 1,
   "metadata": {},
   "outputs": [
    {
     "data": {
      "text/plain": [
       "(10, 20, 40, 50, 60)"
      ]
     },
     "execution_count": 1,
     "metadata": {},
     "output_type": "execute_result"
    }
   ],
   "source": [
    "#q12\n",
    "var1=(10,20,30,40,50,60)\n",
    "list1=list(var1)\n",
    "list1.remove(30)\n",
    "var1=tuple(list1)\n",
    "var1"
   ]
  },
  {
   "cell_type": "code",
   "execution_count": 19,
   "metadata": {},
   "outputs": [
    {
     "name": "stdout",
     "output_type": "stream",
     "text": [
      "(40, 50)\n"
     ]
    }
   ],
   "source": [
    "#q13\n",
    "var1=(10,20,30,40,50,60)\n",
    "print(var1[3:5])"
   ]
  },
  {
   "cell_type": "code",
   "execution_count": 20,
   "metadata": {},
   "outputs": [
    {
     "name": "stdout",
     "output_type": "stream",
     "text": [
      "(10, 20, 30, 50, 60)\n"
     ]
    }
   ],
   "source": [
    "var1=(10,20,30,40,50,60)\n",
    "print(var1[0:3]+var1[4:])"
   ]
  },
  {
   "cell_type": "code",
   "execution_count": 16,
   "metadata": {},
   "outputs": [
    {
     "name": "stdout",
     "output_type": "stream",
     "text": [
      "2\n"
     ]
    }
   ],
   "source": [
    "#q14\n",
    "var1=(10,20,30,40,50,60)\n",
    "print(var1.index(30))"
   ]
  },
  {
   "cell_type": "code",
   "execution_count": 17,
   "metadata": {},
   "outputs": [
    {
     "name": "stdout",
     "output_type": "stream",
     "text": [
      "6\n"
     ]
    }
   ],
   "source": [
    "#q15\n",
    "var1=(10,20,30,40,50,60)\n",
    "print(len(var1))"
   ]
  },
  {
   "cell_type": "code",
   "execution_count": 24,
   "metadata": {},
   "outputs": [
    {
     "name": "stdout",
     "output_type": "stream",
     "text": [
      "(40, 30, 20, 10)\n"
     ]
    }
   ],
   "source": [
    "var1=(10,20,30,40)\n",
    "r=reversed(var1)\n",
    "print(tuple(r))"
   ]
  },
  {
   "cell_type": "code",
   "execution_count": null,
   "metadata": {},
   "outputs": [],
   "source": []
  }
 ],
 "metadata": {
  "kernelspec": {
   "display_name": "Python 3",
   "language": "python",
   "name": "python3"
  },
  "language_info": {
   "codemirror_mode": {
    "name": "ipython",
    "version": 3
   },
   "file_extension": ".py",
   "mimetype": "text/x-python",
   "name": "python",
   "nbconvert_exporter": "python",
   "pygments_lexer": "ipython3",
   "version": "3.7.4"
  }
 },
 "nbformat": 4,
 "nbformat_minor": 2
}

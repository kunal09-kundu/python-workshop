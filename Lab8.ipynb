{
 "cells": [
  {
   "cell_type": "markdown",
   "metadata": {},
   "source": [
    "## Q1"
   ]
  },
  {
   "cell_type": "code",
   "execution_count": 1,
   "metadata": {},
   "outputs": [
    {
     "name": "stdout",
     "output_type": "stream",
     "text": [
      "Enter The First Side: 35\n",
      "Enter The Second Side:  25\n",
      "Enter The Third Side:  12\n",
      "The Sides Of Triangle are\n",
      "35\n",
      "25\n",
      "12\n"
     ]
    }
   ],
   "source": [
    "class Triangle:\n",
    "    a=0\n",
    "    b=0\n",
    "    c=0\n",
    "    def create_triangle(self):\n",
    "        self.a=int(input(\"Enter The First Side: \"))\n",
    "        self.b=int(input(\"Enter The Second Side:  \"))\n",
    "        self.c = int(input(\"Enter The Third Side:  \"))\n",
    "    def printside(self):\n",
    "        print(self.a)\n",
    "        print(self.b)\n",
    "        print(self.c)\n",
    "\n",
    "tr=Triangle()\n",
    "tr.create_triangle()\n",
    "print(\"The Sides Of Triangle are\")\n",
    "tr.printside()"
   ]
  },
  {
   "cell_type": "markdown",
   "metadata": {},
   "source": [
    "## Q2"
   ]
  },
  {
   "cell_type": "code",
   "execution_count": 2,
   "metadata": {},
   "outputs": [
    {
     "name": "stdout",
     "output_type": "stream",
     "text": [
      "Enter The String:  fdasve\n",
      "The input string is:  fdasve\n"
     ]
    }
   ],
   "source": [
    "class String:\n",
    "    a=\"\"\n",
    "    def gets(self):\n",
    "        self.a=input(\"Enter The String:  \")\n",
    "        return (self.a)\n",
    "str=String()\n",
    "print(\"The input string is: \" ,str.gets())"
   ]
  },
  {
   "cell_type": "markdown",
   "metadata": {},
   "source": [
    "## Q3"
   ]
  },
  {
   "cell_type": "code",
   "execution_count": 3,
   "metadata": {},
   "outputs": [
    {
     "name": "stdout",
     "output_type": "stream",
     "text": [
      "Enter The length: 45\n",
      "Enter The width: 23\n",
      "The Perimeter of Rectangle is:  136\n"
     ]
    }
   ],
   "source": [
    "class Rectangle:\n",
    "    l=0.0\n",
    "    w=0.0\n",
    "    def rect(self):\n",
    "        self.l=int(input(\"Enter The length: \"))\n",
    "        self.w=int(input(\"Enter The width: \"))\n",
    "        return (2*(self.l+self.w))\n",
    "r1=Rectangle()\n",
    "print(\"The Perimeter of Rectangle is: \",r1.rect())\n"
   ]
  },
  {
   "cell_type": "markdown",
   "metadata": {},
   "source": [
    "## Q4"
   ]
  },
  {
   "cell_type": "code",
   "execution_count": 4,
   "metadata": {},
   "outputs": [
    {
     "name": "stdout",
     "output_type": "stream",
     "text": [
      "Enter The Radius: 20\n",
      "The Area Of the circle is:  1256.0\n",
      "The Perimeter of the rectangle is:  125.60000000000001\n"
     ]
    }
   ],
   "source": [
    "class Circle:\n",
    "    rad=0.0\n",
    "    def __init__(self):\n",
    "        self.rad=float(input(\"Enter The Radius: \"))\n",
    "    def areac(self):\n",
    "        return (3.14*self.rad*self.rad)\n",
    "    def perr(self):\n",
    "        return (2*3.14*self.rad)\n",
    "c1=Circle()\n",
    "print(\"The Area Of the circle is: \" ,c1.areac())\n",
    "print(\"The Perimeter of the rectangle is: \" , c1.perr())"
   ]
  },
  {
   "cell_type": "markdown",
   "metadata": {},
   "source": [
    "## Q6"
   ]
  },
  {
   "cell_type": "code",
   "execution_count": 6,
   "metadata": {},
   "outputs": [
    {
     "name": "stdout",
     "output_type": "stream",
     "text": [
      "Enter the Temp in F:70\n",
      "The Conversion of F to C is: 21.11111111111111\n",
      "Enter The Temp in c:42\n",
      "The Conversion of C to F is: 107.60000000000001\n"
     ]
    }
   ],
   "source": [
    "class Temperature:\n",
    "    f=0.0\n",
    "    c=0.0\n",
    "    def convf(self):\n",
    "        self.f=int(input(\"Enter the Temp in F:\"))\n",
    "        return ((self.f-32)/1.8)\n",
    "    def convc(self):\n",
    "        self.c=int(input(\"Enter The Temp in c:\"))\n",
    "        return ((self.c*1.8)+32)\n",
    "te=Temperature()\n",
    "print(\"The Conversion of F to C is:\",te.convf())\n",
    "print(\"The Conversion of C to F is:\", te.convc())"
   ]
  },
  {
   "cell_type": "markdown",
   "metadata": {},
   "source": [
    "## Q7"
   ]
  },
  {
   "cell_type": "code",
   "execution_count": 1,
   "metadata": {},
   "outputs": [
    {
     "name": "stdout",
     "output_type": "stream",
     "text": [
      "('Ayaam', 200, '2K18CSUN01012')\n",
      "Enter The Age of Student20\n",
      "The age of Student is 20\n",
      "Enter The Marks Of Student180\n",
      "The Update Marks Of Student is 180\n"
     ]
    }
   ],
   "source": [
    "class student():\n",
    "    name=\"\"\n",
    "    marks=0\n",
    "    age=0\n",
    "    Roll_No=\"\"\n",
    "    def display(self):\n",
    "        return (self.name,self.marks,self.Roll_No)\n",
    "    def setage(self):\n",
    "        self.age=int(input(\"Enter The Age of Student\"))\n",
    "        return (self.age)\n",
    "    def setmarks(self):\n",
    "        self.marks=int(input(\"Enter The Marks Of Student\"))\n",
    "        return (self.marks)\n",
    "stu=student()\n",
    "stu.name=\"Ayaam\"\n",
    "stu.marks=200\n",
    "stu.Roll_No=\"2K18CSUN01012\"\n",
    "print(stu.display())\n",
    "print(\"The age of Student is\", stu.setage())\n",
    "print(\"The Update Marks Of Student is\", stu.setmarks())"
   ]
  },
  {
   "cell_type": "markdown",
   "metadata": {},
   "source": [
    "## Q8"
   ]
  },
  {
   "cell_type": "code",
   "execution_count": 10,
   "metadata": {},
   "outputs": [
    {
     "name": "stdout",
     "output_type": "stream",
     "text": [
      "Enter The Hour 5\n",
      "Enter the minute34\n",
      "Enter Another hour7\n",
      "Enter Another Minute23\n",
      "The Total Time is\n",
      "12 Hour and  57 min\n",
      "The Total Minute is 777\n"
     ]
    }
   ],
   "source": [
    "class time():\n",
    "    hour = 0\n",
    "    hour1 = 0\n",
    "    min = 0\n",
    "    min1 = 0\n",
    "    totalhr=0\n",
    "    totalmin=0\n",
    "\n",
    "    def addTime(self):\n",
    "        self.hour = int(input(\"Enter The Hour \"))\n",
    "        self.min = int(input(\"Enter the minute\"))\n",
    "        self.hour1 = int(input(\"Enter Another hour\"))\n",
    "        self.min1 = int(input(\"Enter Another Minute\"))\n",
    "\n",
    "    def displayTime(self):\n",
    "        self.totalhr=self.hour + self.hour1\n",
    "        self.totalmin=self.min + self.min1\n",
    "        print(self.totalhr,\"Hour and \",self.totalmin,\"min\")\n",
    "    def displaymin(self):\n",
    "        return (60*self.totalhr+self.totalmin)\n",
    "b1 = time()\n",
    "b1.addTime()\n",
    "print(\"The Total Time is\")\n",
    "b1.displayTime()\n",
    "print(\"The Total Minute is\",b1.displaymin())"
   ]
  },
  {
   "cell_type": "markdown",
   "metadata": {},
   "source": [
    "## Q9"
   ]
  },
  {
   "cell_type": "code",
   "execution_count": 13,
   "metadata": {},
   "outputs": [
    {
     "name": "stdout",
     "output_type": "stream",
     "text": [
      "Enter The String Hi\n",
      "iH\n"
     ]
    }
   ],
   "source": [
    "class reversestring:\n",
    "    a=\"\"\n",
    "    def rev_fun(self):\n",
    "        self.a=input(\"Enter The String \")\n",
    "        return self.a[::-1]\n",
    "rev=reversestring()\n",
    "print(rev.rev_fun())"
   ]
  },
  {
   "cell_type": "code",
   "execution_count": null,
   "metadata": {},
   "outputs": [],
   "source": []
  }
 ],
 "metadata": {
  "kernelspec": {
   "display_name": "Python 3",
   "language": "python",
   "name": "python3"
  },
  "language_info": {
   "codemirror_mode": {
    "name": "ipython",
    "version": 3
   },
   "file_extension": ".py",
   "mimetype": "text/x-python",
   "name": "python",
   "nbconvert_exporter": "python",
   "pygments_lexer": "ipython3",
   "version": "3.7.4"
  }
 },
 "nbformat": 4,
 "nbformat_minor": 2
}
